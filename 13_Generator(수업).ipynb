{
  "nbformat": 4,
  "nbformat_minor": 0,
  "metadata": {
    "colab": {
      "name": "13. Generator(수업)",
      "provenance": [],
      "collapsed_sections": [],
      "authorship_tag": "ABX9TyP5P/Vp/yPqmiIbKSDXsG70",
      "include_colab_link": true
    },
    "kernelspec": {
      "name": "python3",
      "display_name": "Python 3"
    },
    "language_info": {
      "name": "python"
    }
  },
  "cells": [
    {
      "cell_type": "markdown",
      "metadata": {
        "id": "view-in-github",
        "colab_type": "text"
      },
      "source": [
        "<a href=\"https://colab.research.google.com/github/SangKwon93/TIL/blob/master/13_Generator(%EC%88%98%EC%97%85).ipynb\" target=\"_parent\"><img src=\"https://colab.research.google.com/assets/colab-badge.svg\" alt=\"Open In Colab\"/></a>"
      ]
    },
    {
      "cell_type": "markdown",
      "source": [
        "# 스크레피를 알기 위해 중요한 개념\n",
        "## lterator(순회), Generator\n",
        "-`iterable` : 순회가 가능한 데이터 집합\n",
        "- `iterator`\n",
        "  - 반복적으로 실행 할때마다 다른 결괏값이 나오는 함수\n",
        "  - 값 생성기\n"
      ],
      "metadata": {
        "id": "H1ccUI9xBrEb"
      }
    },
    {
      "cell_type": "code",
      "source": [
        "ls = [10, 20, 30]\n",
        "\n",
        "for i in ls:\n",
        "  print(i)"
      ],
      "metadata": {
        "colab": {
          "base_uri": "https://localhost:8080/"
        },
        "id": "oRTgBcecB1_k",
        "outputId": "7d7a0e73-f3ef-45d2-8ef8-709410896edc"
      },
      "execution_count": null,
      "outputs": [
        {
          "output_type": "stream",
          "name": "stdout",
          "text": [
            "10\n",
            "20\n",
            "30\n"
          ]
        }
      ]
    },
    {
      "cell_type": "code",
      "source": [
        "ls = [10, 20, 30] # list\n",
        "ls_it = iter(ls) #iter라는 모듈\n",
        "ls_it\n"
      ],
      "metadata": {
        "colab": {
          "base_uri": "https://localhost:8080/"
        },
        "id": "yUxKefeoDwMF",
        "outputId": "693c7c5a-69af-4862-aa98-f16cf13c5ac1"
      },
      "execution_count": null,
      "outputs": [
        {
          "output_type": "execute_result",
          "data": {
            "text/plain": [
              "<list_iterator at 0x7f61afb9cf10>"
            ]
          },
          "metadata": {},
          "execution_count": 12
        }
      ]
    },
    {
      "cell_type": "markdown",
      "source": [
        "`iteration` : `iterator`에서 값을 순서대로 가져오는 행위\n",
        "- `next`함수를 활용"
      ],
      "metadata": {
        "id": "YwkNJlt1DwDl"
      }
    },
    {
      "cell_type": "code",
      "source": [
        "# iteration 수행\n",
        "next(ls_it)"
      ],
      "metadata": {
        "colab": {
          "base_uri": "https://localhost:8080/"
        },
        "id": "yYHi4OciEgcG",
        "outputId": "0e36590f-4ac7-43d2-bb6f-aa02e86492ee"
      },
      "execution_count": null,
      "outputs": [
        {
          "output_type": "execute_result",
          "data": {
            "text/plain": [
              "10"
            ]
          },
          "metadata": {},
          "execution_count": 13
        }
      ]
    },
    {
      "cell_type": "markdown",
      "source": [
        "# 피보나치 수열\n",
        "-  0 1 1 2 3  5 8 13"
      ],
      "metadata": {
        "id": "nfkeMuhDE7aj"
      }
    },
    {
      "cell_type": "code",
      "source": [
        "class Fib:\n",
        "  def __init__(self):\n",
        "    self.prev = 0\n",
        "    self.curr= 1\n",
        "  \n",
        "  # __next__를 구현하면 iterable한 자료형이 된다. ==> iterator가 될 수 있다. next 함수 수행가능해진다.\n",
        "  def __next__(self):\n",
        "    value = self.curr\n",
        "\n",
        "    self.curr = self.curr + self.prev\n",
        "    self.prev = value\n",
        "\n",
        "    return value"
      ],
      "metadata": {
        "id": "nzk7KuMYFVmb"
      },
      "execution_count": null,
      "outputs": []
    },
    {
      "cell_type": "code",
      "source": [
        "# 피보나치 객체만들기\n",
        "fib=Fib()"
      ],
      "metadata": {
        "id": "ufaVkqXTGf5s"
      },
      "execution_count": null,
      "outputs": []
    },
    {
      "cell_type": "code",
      "source": [
        "next(fib)"
      ],
      "metadata": {
        "colab": {
          "base_uri": "https://localhost:8080/"
        },
        "id": "ecUyoRzlGngE",
        "outputId": "319b6163-f97d-47fc-919a-dc0074677384"
      },
      "execution_count": null,
      "outputs": [
        {
          "output_type": "execute_result",
          "data": {
            "text/plain": [
              "144"
            ]
          },
          "metadata": {},
          "execution_count": 34
        }
      ]
    },
    {
      "cell_type": "markdown",
      "source": [
        "## Generator\n",
        "- iterator를 간단하게 만든 것\n",
        "- 꼭 객체일 필요없고 함수나 class에 사용\n",
        "- iter()나 next() 함수를 사용해서 클래쓰로 만들어 놓을 필요가 없다.\n",
        "\n",
        "```\n",
        "- `yield` 또는 `yield from` 키워드가 있으면 `Generator`가 된다. \n",
        "```"
      ],
      "metadata": {
        "id": "WIo-I9EaGycm"
      }
    },
    {
      "cell_type": "code",
      "source": [
        "def fib():\n",
        "  prev, curr = 0, 1\n",
        "\n",
        "\n",
        "  while True: # 값을 무한정\n",
        "    yield curr # return과 굉장히 흡사\n",
        "    # yield 는 멈춰있고 next를 만나면 아래로 실행된다. 그리고 무한루프\n",
        "    #prev = curr\n",
        "    #curr = prev + curr\n",
        "    prev,curr = curr,prev+curr\n",
        "\n"
      ],
      "metadata": {
        "id": "KXq3a1iyHcFz"
      },
      "execution_count": null,
      "outputs": []
    },
    {
      "cell_type": "markdown",
      "source": [
        "`return` : 값을 반환하고 함수 자체를 끝낸다.  \n",
        "`yield` : 값을 반환하고 함수 끝내지 않고 아래에 있는 코드를 계속 실행한다."
      ],
      "metadata": {
        "id": "EG54yLWLH6Rb"
      }
    },
    {
      "cell_type": "code",
      "source": [
        "f=fib()"
      ],
      "metadata": {
        "id": "QTl66BieINps"
      },
      "execution_count": null,
      "outputs": []
    },
    {
      "cell_type": "code",
      "source": [
        "next(f) # 다시 해봐야된다. 오류나왔다."
      ],
      "metadata": {
        "colab": {
          "base_uri": "https://localhost:8080/"
        },
        "id": "_n1ey3ULJGi8",
        "outputId": "86408bc6-2c11-4b03-cea5-f04e5ede8d21"
      },
      "execution_count": null,
      "outputs": [
        {
          "output_type": "execute_result",
          "data": {
            "text/plain": [
              "3"
            ]
          },
          "metadata": {},
          "execution_count": 6
        }
      ]
    },
    {
      "cell_type": "code",
      "source": [
        "def test():\n",
        "  yield 10\n",
        "  yield 20\n",
        "  yield 30"
      ],
      "metadata": {
        "id": "pVN2ZfiJJHRE"
      },
      "execution_count": null,
      "outputs": []
    },
    {
      "cell_type": "code",
      "source": [
        "t=test()"
      ],
      "metadata": {
        "id": "ouYGYLW4J2QF"
      },
      "execution_count": null,
      "outputs": []
    },
    {
      "cell_type": "code",
      "source": [
        "next(t)"
      ],
      "metadata": {
        "colab": {
          "base_uri": "https://localhost:8080/"
        },
        "id": "t4Rf-cjjJ3Ek",
        "outputId": "7bd75e69-1e00-4bfe-a20f-fd91895d2d7f"
      },
      "execution_count": null,
      "outputs": [
        {
          "output_type": "execute_result",
          "data": {
            "text/plain": [
              "30"
            ]
          },
          "metadata": {},
          "execution_count": 11
        }
      ]
    },
    {
      "cell_type": "markdown",
      "source": [
        "## 여러 값을 계속 나오게 하려면 아래와 같이 많이 활용"
      ],
      "metadata": {
        "id": "jX2eFu13KTRi"
      }
    },
    {
      "cell_type": "code",
      "source": [
        "def test2():\n",
        "  lst = [10,20,30,40,50]\n",
        "  yield from lst\n"
      ],
      "metadata": {
        "id": "7k2QnMOhKDHD"
      },
      "execution_count": null,
      "outputs": []
    },
    {
      "cell_type": "code",
      "source": [
        "t2=test2()"
      ],
      "metadata": {
        "id": "kVVSbl6jKQ_L"
      },
      "execution_count": null,
      "outputs": []
    },
    {
      "cell_type": "code",
      "source": [
        "next(t2)"
      ],
      "metadata": {
        "id": "qAToFDZhKZvM",
        "outputId": "b355e40e-e731-4a9c-cd48-4fcaddaef739",
        "colab": {
          "base_uri": "https://localhost:8080/"
        }
      },
      "execution_count": null,
      "outputs": [
        {
          "output_type": "execute_result",
          "data": {
            "text/plain": [
              "40"
            ]
          },
          "metadata": {},
          "execution_count": 58
        }
      ]
    }
  ]
}